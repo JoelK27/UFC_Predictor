{
 "cells": [
  {
   "cell_type": "code",
   "execution_count": null,
   "id": "00125fd0",
   "metadata": {},
   "outputs": [
    {
     "name": "stdout",
     "output_type": "stream",
     "text": [
      "Vorverarbeitete Daten gespeichert als fight_totals_preprocessed.csv\n"
     ]
    }
   ],
   "source": [
    "import pandas as pd\n",
    "from sklearn.preprocessing import StandardScaler, LabelEncoder\n",
    "\n",
    "# 1. Bereinigte Daten laden\n",
    "df = pd.read_csv(\"fight_totals_cleaned.csv\")\n",
    "\n",
    "# 2. Fehlende Werte behandeln (numerische Spalten mit 0 auffüllen)\n",
    "numeric_cols = df.select_dtypes(include=['float64', 'int64']).columns\n",
    "df[numeric_cols] = df[numeric_cols].fillna(0)\n",
    "\n",
    "# 3. Numerische Features skalieren\n",
    "scaler = StandardScaler()\n",
    "df[numeric_cols] = scaler.fit_transform(df[numeric_cols])\n",
    "\n",
    "# 4. Zielvariable encoden (z.B. 'Winner?')\n",
    "if 'Winner?' in df.columns:\n",
    "    encoder = LabelEncoder()\n",
    "    df['Winner?'] = encoder.fit_transform(df['Winner?'])\n",
    "\n",
    "# 5. Vorverarbeitete Daten speichern\n",
    "df.to_csv(\"fight_totals_preprocessed.csv\", index=False)\n",
    "print(\"Vorverarbeitete Daten gespeichert als fight_totals_preprocessed.csv\")"
   ]
  }
 ],
 "metadata": {
  "kernelspec": {
   "display_name": "Python 3",
   "language": "python",
   "name": "python3"
  },
  "language_info": {
   "codemirror_mode": {
    "name": "ipython",
    "version": 3
   },
   "file_extension": ".py",
   "mimetype": "text/x-python",
   "name": "python",
   "nbconvert_exporter": "python",
   "pygments_lexer": "ipython3",
   "version": "3.12.4"
  }
 },
 "nbformat": 4,
 "nbformat_minor": 5
}
